{
 "cells": [
  {
   "cell_type": "code",
   "execution_count": 38,
   "id": "48b96006",
   "metadata": {},
   "outputs": [],
   "source": [
    "import requests\n",
    "from bs4 import BeautifulSoup \n",
    "import pandas as pd"
   ]
  },
  {
   "cell_type": "code",
   "execution_count": 49,
   "id": "9576939d",
   "metadata": {},
   "outputs": [
    {
     "name": "stdout",
     "output_type": "stream",
     "text": [
      "<html>\n",
      " <head>\n",
      "  <title>\n",
      "   503 - Service Unavailable Error\n",
      "  </title>\n",
      " </head>\n",
      " <body bgcolor=\"#FFFFFF\" text=\"#000000\">\n",
      "  <!--\n",
      "        To discuss automated access to Amazon data please contact api-services-support@amazon.com.\n",
      "        For information about migrating to our APIs refer to our Marketplace APIs at https://developer.amazonservices.in/ref=rm_5_sv, or our Product Advertising API at https://affiliate-program.amazon.in/gp/advertising/api/detail/main.html/ref=rm_5_ac for advertising use cases.\n",
      "-->\n",
      "  <center>\n",
      "   <a href=\"https://www.amazon.in/ref=cs_503_logo/\">\n",
      "    <img alt=\"Amazon.in\" border=\"0\" height=\"45\" src=\"https://images-eu.ssl-images-amazon.com/images/G/31/x-locale/communities/people/logo.gif\" width=\"200\"/>\n",
      "   </a>\n",
      "   <p align=\"center\">\n",
      "    <font face=\"Verdana,Arial,Helvetica\">\n",
      "     <font color=\"#CC6600\" size=\"+2\">\n",
      "      <b>\n",
      "       Oops!\n",
      "      </b>\n",
      "     </font>\n",
      "     <br/>\n",
      "     <b>\n",
      "      It's rush hour and traffic is piling up on that page. Please try again in a short while.\n",
      "      <br/>\n",
      "      If you were trying to place an order, it will not have been processed at this time.\n",
      "     </b>\n",
      "     <p>\n",
      "      <img alt=\"*\" border=\"0\" height=\"9\" src=\"https://images-eu.ssl-images-amazon.com/images/G/02/x-locale/common/orange-arrow.gif\" width=\"10\"/>\n",
      "      <b>\n",
      "       <a href=\"https://www.amazon.in/ref=cs_503_link/\">\n",
      "        Go to the Amazon.in home page to continue shopping\n",
      "       </a>\n",
      "      </b>\n",
      "     </p>\n",
      "    </font>\n",
      "   </p>\n",
      "  </center>\n",
      " </body>\n",
      "</html>\n",
      "\n"
     ]
    }
   ],
   "source": [
    "url = \"https://www.amazon.in/s?k=realme+mobiles&crid=5K1N61UKNGI0&sprefix=real%2Caps%2C956&ref=nb_sb_noss_2\"\n",
    "r = requests.get(url)\n",
    "soup = BeautifulSoup(r.content,\"html.parser\")\n",
    "print(soup.prettify())"
   ]
  },
  {
   "cell_type": "code",
   "execution_count": 53,
   "id": "6bb91b30",
   "metadata": {},
   "outputs": [
    {
     "name": "stdout",
     "output_type": "stream",
     "text": [
      "[]\n"
     ]
    }
   ],
   "source": [
    "title = soup.find_all('div',class_=\"a-section aok-relative s-image-fixed-height\")\n",
    "print(title)"
   ]
  },
  {
   "cell_type": "code",
   "execution_count": null,
   "id": "fc1e7173",
   "metadata": {},
   "outputs": [],
   "source": []
  }
 ],
 "metadata": {
  "kernelspec": {
   "display_name": "Python 3 (ipykernel)",
   "language": "python",
   "name": "python3"
  },
  "language_info": {
   "codemirror_mode": {
    "name": "ipython",
    "version": 3
   },
   "file_extension": ".py",
   "mimetype": "text/x-python",
   "name": "python",
   "nbconvert_exporter": "python",
   "pygments_lexer": "ipython3",
   "version": "3.9.13"
  }
 },
 "nbformat": 4,
 "nbformat_minor": 5
}
